{
 "cells": [
  {
   "cell_type": "code",
   "execution_count": 1,
   "metadata": {},
   "outputs": [
    {
     "name": "stderr",
     "output_type": "stream",
     "text": [
      "/home/dat/.local/lib/python3.8/site-packages/tqdm/auto.py:22: TqdmWarning: IProgress not found. Please update jupyter and ipywidgets. See https://ipywidgets.readthedocs.io/en/stable/user_install.html\n",
      "  from .autonotebook import tqdm as notebook_tqdm\n"
     ]
    }
   ],
   "source": [
    "from torch import nn\n",
    "import torch\n",
    "import pandas as pd\n",
    "import numpy as np\n",
    "import csv\n",
    "import random\n",
    "import sklearn.model_selection\n",
    "from torch.utils.tensorboard.writer import SummaryWriter\n",
    "import tqdm\n",
    "from torch.utils.data import DataLoader, Dataset\n",
    "import torch.nn.functional as F\n",
    "import os\n",
    "\n",
    "torch.backends.cudnn.benchmark = True"
   ]
  },
  {
   "cell_type": "code",
   "execution_count": 2,
   "metadata": {},
   "outputs": [],
   "source": [
    "\n",
    "class LSTM(nn.Module):\n",
    "\n",
    "    def __init__(self):\n",
    "        super().__init__()\n",
    "        self.lstm  = nn.LSTM(4, 64, 2,bidirectional = True, batch_first=True)\n",
    "        self.lstm1  = nn.LSTM(64, 128, 2,bidirectional = True, batch_first=True)\n",
    "        self.fc1 = nn.Linear(256, 64)\n",
    "        self.fc2 = nn.Linear(64, 1)\n",
    "        self.relu = nn.ReLU()\n",
    "        self.tanh = nn.Tanh()\n",
    "\n",
    "        self.delay = 24\n",
    "        self.future = 24\n",
    "    def forward(self, x):\n",
    "        _, (h, c) = self.lstm(x)\n",
    "        a = h[-1,:,:]\n",
    "        a = a.unsqueeze(1).repeat(1, self.future, 1)\n",
    "        a, (hidden_state, cell_state) = self.lstm1(a)\n",
    "        # a = x.reshape((-1, self.seq_len, self.hidden_size))\n",
    "        a = self.fc1(a)\n",
    "        a = self.tanh(a)\n",
    "        a = self.fc2(a)\n",
    "        a = x[:,-self.future:,0]+a[:,:,0]\n",
    "        a = nn.ReLU()(a)\n",
    "        return a\n",
    "\n",
    "\n",
    "class REG(nn.Module):\n",
    "\n",
    "    def __init__(self, bias=True):\n",
    "        super(REG, self).__init__()\n",
    "        self.predict24 = LSTM()\n",
    "        self.adj_transform1 = nn.Linear(4, 10)\n",
    "        self.adj_transform2 = nn.Linear(10, 1)\n",
    "        self.linear1 = nn.Linear(24,100)\n",
    "        self.linear2 = nn.Linear(100,24)\n",
    "        self.sigmoid = nn.Sigmoid()\n",
    "        self.tanh = nn.Tanh()\n",
    "    def forward(self, x, x_l, y_l, return_adj=False):\n",
    "        a = self.predict24(x)\n",
    "        S, _ = a.shape\n",
    "        \n",
    "        # construct adjacency matrix\n",
    "        y_l = y_l.expand([S,2])\n",
    "        adj = torch.cat((x_l, y_l), dim=-1)\n",
    "        \n",
    "        # non-linear function\n",
    "        adj = self.adj_transform1(adj)\n",
    "        adj = self.tanh(adj)\n",
    "        adj = self.adj_transform2(adj)\n",
    "        out = torch.mm(a.transpose(-1,0), adj)\n",
    "        \n",
    "        # activation\n",
    "        out = out.transpose(-1,0)\n",
    "        out = out.relu()\n",
    "        if return_adj:\n",
    "            return out, adj\n",
    "        return out\n",
    "    def compute_loss(self, x, x_l, y_l, desire):\n",
    "        output = self(x, x_l, y_l)\n",
    "        loss = torch.mean(torch.abs((desire-output)/desire))\n",
    "        return loss \n"
   ]
  },
  {
   "cell_type": "code",
   "execution_count": 3,
   "metadata": {},
   "outputs": [],
   "source": [
    "df = pd.read_csv('dataset/data_train/location_input.csv')\n",
    "lo_mean = df['longitude'].mean()\n",
    "lo_std = df['longitude'].std()\n",
    "la_mean = df['latitude'].mean()\n",
    "la_std = df['latitude'].std()\n",
    "def location(filename):\n",
    "    with open(filename) as csv_file:\n",
    "        csv_reader = csv.reader(csv_file, delimiter=',')\n",
    "        i = 0\n",
    "        station = {}\n",
    "        for row in csv_reader:\n",
    "            if i>0:\n",
    "                station[row[1]] = [(np.float64(row[2])-lo_mean)/lo_std,  (np.float64(row[3])-la_mean)/la_std]\n",
    "            i +=1\n",
    "\n",
    "    return station \n",
    "\n",
    "\n",
    "def read_csv(filename):\n",
    "    with open(filename) as csv_file:\n",
    "        csv_reader = csv.reader(csv_file, delimiter=',')\n",
    "        data = []\n",
    "        temp = []\n",
    "        i = 0\n",
    "        for row in csv_reader:\n",
    "            if i>0:\n",
    "                if row[2] =='' or row[3]=='' or row[4]=='':\n",
    "                    if temp != []:\n",
    "                        data.append(temp)\n",
    "                    temp = []\n",
    "                    continue\n",
    "                temp.append([np.float64(row[2]),np.float64(row[3]),np.float64(row[4]),np.float32(row[1].split()[1].split(':')[0]),np.float64(row[0])])\n",
    "            i +=1\n",
    "        if len(temp)>0:\n",
    "            data.append(temp)\n",
    "    return data\n"
   ]
  },
  {
   "cell_type": "code",
   "execution_count": 5,
   "metadata": {},
   "outputs": [
    {
     "data": {
      "text/plain": [
       "REG(\n",
       "  (predict24): LSTM(\n",
       "    (lstm): LSTM(4, 64, num_layers=2, batch_first=True, bidirectional=True)\n",
       "    (lstm1): LSTM(64, 128, num_layers=2, batch_first=True, bidirectional=True)\n",
       "    (fc1): Linear(in_features=256, out_features=64, bias=True)\n",
       "    (fc2): Linear(in_features=64, out_features=1, bias=True)\n",
       "    (relu): ReLU()\n",
       "    (tanh): Tanh()\n",
       "  )\n",
       "  (adj_transform1): Linear(in_features=4, out_features=10, bias=True)\n",
       "  (adj_transform2): Linear(in_features=10, out_features=1, bias=True)\n",
       "  (linear1): Linear(in_features=24, out_features=100, bias=True)\n",
       "  (linear2): Linear(in_features=100, out_features=24, bias=True)\n",
       "  (sigmoid): Sigmoid()\n",
       "  (tanh): Tanh()\n",
       ")"
      ]
     },
     "execution_count": 5,
     "metadata": {},
     "output_type": "execute_result"
    }
   ],
   "source": [
    "model = REG()\n",
    "checkpoint = torch.load('ckpt/model/checkpoints/mlp_epoch_9.ckpt', map_location='cuda:0')\n",
    "model.load_state_dict(checkpoint['model_state_dict'])\n",
    "model.eval()"
   ]
  },
  {
   "cell_type": "code",
   "execution_count": 7,
   "metadata": {},
   "outputs": [
    {
     "name": "stderr",
     "output_type": "stream",
     "text": [
      "100%|██████████| 100/100 [00:10<00:00,  9.39it/s]\n"
     ]
    }
   ],
   "source": [
    "for i in tqdm.tqdm(range(1,101)): \n",
    "    os.makedirs(f'prediction/{i}',exist_ok = True)\n",
    "    delay = 36\n",
    "    path_in = [os.path.join(f'dataset/public-test/input/{i}', f) for f in os.listdir(f'dataset/public-test/input/{i}')]\n",
    "    input_location = location('dataset/data_train/location_input.csv')\n",
    "    output_location = location('dataset/public-test/location.csv')\n",
    "    inp = []\n",
    "    inp_local = []\n",
    "    for path1 in path_in:\n",
    "        locate = os.path.basename(path1).split('.')[0]\n",
    "        raw = read_csv(path1)\n",
    "        if len(raw)>0:\n",
    "            if raw[-1][-1][-1] == 167 and raw[-1][0][-1]  < (167-delay+1):\n",
    "                inp += [np.stack(raw[-1][-delay:])]\n",
    "                inp_local += [input_location[locate]]\n",
    "    x = torch.Tensor(np.stack(inp))[:,:,:-1]\n",
    "    x_l = torch.Tensor(np.stack(inp_local))\n",
    "    path_save = f'prediction/{1}'\n",
    "    index = 1\n",
    "    for key in output_location.keys():\n",
    "        y_l = torch.Tensor(output_location[key])\n",
    "        y = model(x,x_l,y_l)\n",
    "        out=pd.DataFrame({'PM2.5':y.squeeze(0).detach().numpy()})\n",
    "        out.to_csv(f'prediction/{i}/res_{i}_{index}.csv',index=False)\n",
    "        index = index+1"
   ]
  },
  {
   "cell_type": "code",
   "execution_count": null,
   "metadata": {},
   "outputs": [],
   "source": []
  }
 ],
 "metadata": {
  "kernelspec": {
   "display_name": "Python 3.8.10 64-bit",
   "language": "python",
   "name": "python3"
  },
  "language_info": {
   "codemirror_mode": {
    "name": "ipython",
    "version": 3
   },
   "file_extension": ".py",
   "mimetype": "text/x-python",
   "name": "python",
   "nbconvert_exporter": "python",
   "pygments_lexer": "ipython3",
   "version": "3.8.10"
  },
  "orig_nbformat": 4,
  "vscode": {
   "interpreter": {
    "hash": "916dbcbb3f70747c44a77c7bcd40155683ae19c65e1c03b4aa3499c5328201f1"
   }
  }
 },
 "nbformat": 4,
 "nbformat_minor": 2
}
